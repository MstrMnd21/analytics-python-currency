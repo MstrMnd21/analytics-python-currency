{
 "cells": [
  {
   "cell_type": "code",
   "execution_count": 1,
   "metadata": {},
   "outputs": [],
   "source": [
    "# Nostradamus One: NTS Framework for all pairs.\n",
    "import pandas as pd\n",
    "import numpy as np"
   ]
  },
  {
   "cell_type": "code",
   "execution_count": 2,
   "metadata": {
    "scrolled": true
   },
   "outputs": [
    {
     "ename": "NameError",
     "evalue": "name 'pd' is not defined",
     "output_type": "error",
     "traceback": [
      "\u001b[1;31m---------------------------------------------------------------------------\u001b[0m",
      "\u001b[1;31mNameError\u001b[0m                                 Traceback (most recent call last)",
      "\u001b[1;32m<ipython-input-2-65b811eba868>\u001b[0m in \u001b[0;36m<module>\u001b[1;34m()\u001b[0m\n\u001b[0;32m      1\u001b[0m \u001b[1;31m# TP WIN/LOSS RATE 0:00 -> 09:00 (Noxtradamus V2)\u001b[0m\u001b[1;33m\u001b[0m\u001b[1;33m\u001b[0m\u001b[0m\n\u001b[0;32m      2\u001b[0m \u001b[1;31m# Include HIGH AND LOW FOR 10:00 AND 11:00 | H10 L10 & H11 L11\u001b[0m\u001b[1;33m\u001b[0m\u001b[1;33m\u001b[0m\u001b[0m\n\u001b[1;32m----> 3\u001b[1;33m \u001b[0mH1FullUsdChf_pd_02\u001b[0m \u001b[1;33m=\u001b[0m \u001b[0mpd\u001b[0m\u001b[1;33m.\u001b[0m\u001b[0mread_csv\u001b[0m\u001b[1;33m(\u001b[0m\u001b[1;34m'datasets/2018-06-12-UsdChfH1_raw.csv'\u001b[0m\u001b[1;33m)\u001b[0m\u001b[1;33m\u001b[0m\u001b[0m\n\u001b[0m\u001b[0;32m      4\u001b[0m \u001b[1;33m\u001b[0m\u001b[0m\n\u001b[0;32m      5\u001b[0m \u001b[0mH1FullUsdChf_pd_02\u001b[0m\u001b[1;33m.\u001b[0m\u001b[0mcolumns\u001b[0m \u001b[1;33m=\u001b[0m \u001b[1;33m[\u001b[0m\u001b[1;34m'Date'\u001b[0m\u001b[1;33m,\u001b[0m \u001b[1;34m'Time'\u001b[0m\u001b[1;33m,\u001b[0m \u001b[1;34m'Open'\u001b[0m\u001b[1;33m,\u001b[0m\u001b[1;34m'High'\u001b[0m\u001b[1;33m,\u001b[0m\u001b[1;34m'Low'\u001b[0m\u001b[1;33m,\u001b[0m\u001b[1;34m'Close'\u001b[0m\u001b[1;33m,\u001b[0m \u001b[1;34m'Vol'\u001b[0m\u001b[1;33m]\u001b[0m\u001b[1;33m\u001b[0m\u001b[0m\n",
      "\u001b[1;31mNameError\u001b[0m: name 'pd' is not defined"
     ]
    }
   ],
   "source": [
    "# TP WIN/LOSS RATE 0:00 -> 09:00 (Noxtradamus V2)\n",
    "# Include HIGH AND LOW FOR 10:00 AND 11:00 | H10 L10 & H11 L11\n",
    "H1FullUsdChf_pd_02 = pd.read_csv('datasets/2018-06-12-UsdChfH1_raw.csv')\n",
    "\n",
    "H1FullUsdChf_pd_02.columns = ['Date', 'Time', 'Open','High','Low','Close', 'Vol']\n",
    "H1FullUsdChf_pd_02 = H1FullUsdChf_pd_02.set_index('Date')\n",
    "H1FullUsdChf_pd_02 = H1FullUsdChf_pd_02.drop(['Vol'], axis=1)\n",
    "H1FullUsdChf_pd_02"
   ]
  },
  {
   "cell_type": "code",
   "execution_count": 3,
   "metadata": {
    "scrolled": true
   },
   "outputs": [
    {
     "ename": "NameError",
     "evalue": "name 'H1FullUsdChf_pd_02' is not defined",
     "output_type": "error",
     "traceback": [
      "\u001b[1;31m---------------------------------------------------------------------------\u001b[0m",
      "\u001b[1;31mNameError\u001b[0m                                 Traceback (most recent call last)",
      "\u001b[1;32m<ipython-input-3-a0809afd8e80>\u001b[0m in \u001b[0;36m<module>\u001b[1;34m()\u001b[0m\n\u001b[1;32m----> 1\u001b[1;33m \u001b[0mT0000UsdChf_pd_02\u001b[0m \u001b[1;33m=\u001b[0m \u001b[0mH1FullUsdChf_pd_02\u001b[0m \u001b[1;33m[\u001b[0m\u001b[1;33m(\u001b[0m\u001b[0mH1FullUsdChf_pd_02\u001b[0m \u001b[1;33m[\u001b[0m\u001b[1;34m'Time'\u001b[0m\u001b[1;33m]\u001b[0m \u001b[1;33m==\u001b[0m \u001b[1;34m'00:00'\u001b[0m\u001b[1;33m)\u001b[0m\u001b[1;33m]\u001b[0m\u001b[1;33m\u001b[0m\u001b[0m\n\u001b[0m\u001b[0;32m      2\u001b[0m \u001b[1;33m\u001b[0m\u001b[0m\n\u001b[0;32m      3\u001b[0m \u001b[1;31m# T0700UsdChf_pd_02 = H1FullUsdChf_pd_02 [(H1FullUsdChf_pd_02 ['Time'] == '07:00')]\u001b[0m\u001b[1;33m\u001b[0m\u001b[1;33m\u001b[0m\u001b[0m\n\u001b[0;32m      4\u001b[0m \u001b[1;31m# T0800UsdChf_pd_02 = H1FullUsdChf_pd_02 [(H1FullUsdChf_pd_02 ['Time'] == '08:00')]\u001b[0m\u001b[1;33m\u001b[0m\u001b[1;33m\u001b[0m\u001b[0m\n\u001b[0;32m      5\u001b[0m \u001b[0mT0900UsdChf_pd_02\u001b[0m \u001b[1;33m=\u001b[0m \u001b[0mH1FullUsdChf_pd_02\u001b[0m \u001b[1;33m[\u001b[0m\u001b[1;33m(\u001b[0m\u001b[0mH1FullUsdChf_pd_02\u001b[0m \u001b[1;33m[\u001b[0m\u001b[1;34m'Time'\u001b[0m\u001b[1;33m]\u001b[0m \u001b[1;33m==\u001b[0m \u001b[1;34m'09:00'\u001b[0m\u001b[1;33m)\u001b[0m\u001b[1;33m]\u001b[0m\u001b[1;33m\u001b[0m\u001b[0m\n",
      "\u001b[1;31mNameError\u001b[0m: name 'H1FullUsdChf_pd_02' is not defined"
     ]
    }
   ],
   "source": [
    "T0000UsdChf_pd_02 = H1FullUsdChf_pd_02 [(H1FullUsdChf_pd_02 ['Time'] == '00:00')]\n",
    "\n",
    "# T0700UsdChf_pd_02 = H1FullUsdChf_pd_02 [(H1FullUsdChf_pd_02 ['Time'] == '07:00')]\n",
    "# T0800UsdChf_pd_02 = H1FullUsdChf_pd_02 [(H1FullUsdChf_pd_02 ['Time'] == '08:00')]\n",
    "T0900UsdChf_pd_02 = H1FullUsdChf_pd_02 [(H1FullUsdChf_pd_02 ['Time'] == '09:00')]\n",
    "T0100UsdChf_pd_02 = H1FullUsdChf_pd_02 [(H1FullUsdChf_pd_02 ['Time'] == '10:00')]\n",
    "T0110UsdChf_pd_02 = H1FullUsdChf_pd_02 [(H1FullUsdChf_pd_02 ['Time'] == '11:00')]\n",
    "# T0120UsdChf_pd_02 = H1FullUsdChf_pd_02 [(H1FullUsdChf_pd_02 ['Time'] == '12:00')]\n",
    "\n",
    "\n",
    "\n",
    "T0000UsdChf_pd_02.columns = ['T00', 'O00','H00','L00','C00']\n",
    "# T0700UsdChf_pd_02.columns = ['T07', 'O07','H07','L07','C07']\n",
    "# T0800UsdChf_pd_02.columns = ['T08', 'O08','H08','L08','C08']\n",
    "T0900UsdChf_pd_02.columns = ['T09', 'O09','H09','L09','C09']\n",
    "T0100UsdChf_pd_02.columns = ['T10', 'O10','H10','L10','C10']\n",
    "T0110UsdChf_pd_02.columns = ['T11', 'O11','H11','L11','C11']\n",
    "# T0120UsdChf_pd_02.columns = ['T12', 'O12','H12','L12','C12']\n",
    "\n",
    "SummaryTable06 = pd.concat([T0000UsdChf_pd_02, T0900UsdChf_pd_02, T0100UsdChf_pd_02, T0110UsdChf_pd_02], axis=1)\n",
    "SummaryTable06"
   ]
  },
  {
   "cell_type": "code",
   "execution_count": null,
   "metadata": {
    "scrolled": true
   },
   "outputs": [],
   "source": [
    "# Selecting Columns for max value between H08 and H09\n",
    "tableH08to12 = SummaryTable06[['H08','H09','H10','H11','H12']]\n",
    "tableH08to12['High 08to12'] = tableH08to12.max(axis=1)\n",
    "tableH08to12"
   ]
  },
  {
   "cell_type": "code",
   "execution_count": null,
   "metadata": {
    "scrolled": true
   },
   "outputs": [],
   "source": [
    "tableL08to12 = SummaryTable06[['L08','L09','L10','L11','L12']]\n",
    "tableL08to12['Low 08to12'] = tableL08to12.min(axis=1)\n",
    "tableL08to12"
   ]
  },
  {
   "cell_type": "code",
   "execution_count": null,
   "metadata": {
    "scrolled": true
   },
   "outputs": [],
   "source": [
    "# Creating columns for Close 07\n",
    "tableC07 = SummaryTable06[['C07']]\n",
    "tableC07\n"
   ]
  },
  {
   "cell_type": "code",
   "execution_count": null,
   "metadata": {
    "scrolled": true
   },
   "outputs": [],
   "source": [
    "EntryCalc = SummaryTable06['C07'] - SummaryTable06['O00']\n",
    "EntryCalc\n",
    "\n",
    "EntryCalc = pd.DataFrame (EntryCalc, columns = ['Entry Calc'])\n",
    "\n",
    "EntryCalc = EntryCalc.reset_index()\n",
    "EntryCalc\n",
    "\n",
    "BullOrBear = np.where (EntryCalc ['Entry Calc'] > 0, 'bull', 'bear')\n",
    "\n",
    "BullOrBear = pd.DataFrame (BullOrBear, columns = ['Bull / Bear'])\n",
    "BullOrBear \n",
    "\n",
    "SummaryTable03 = pd.concat([EntryCalc, BullOrBear], axis=1)\n",
    "\n",
    "SummaryTable03.columns = ['Date', 'Entry Calc','Bull/Bear']\n",
    "SummaryTable03 = SummaryTable03.set_index('Date')\n",
    "\n",
    "tableBlBr = SummaryTable03[['Bull/Bear']]\n",
    "tableBlBr"
   ]
  },
  {
   "cell_type": "code",
   "execution_count": null,
   "metadata": {
    "scrolled": true
   },
   "outputs": [],
   "source": [
    "summaryTable07 = pd.concat([tableC07, tableH08to12, tableL08to12, tableBlBr], axis=1)\n",
    "summaryTable07"
   ]
  },
  {
   "cell_type": "code",
   "execution_count": null,
   "metadata": {
    "scrolled": true
   },
   "outputs": [],
   "source": [
    "# If Buy or If Sell \n",
    "PositionBuy_TP0809 = summaryTable07 ['High 08to12'] - summaryTable07 ['C07']\n",
    "PositionBuy_TP0809_pd = pd.DataFrame (PositionBuy_TP0809, columns = ['If Buy Pos'])\n",
    "\n",
    "PositionSell_TP0809 = summaryTable07 ['C07'] - summaryTable07 ['Low 08to12']\n",
    "PositionSell_TP0809_pd = pd.DataFrame (PositionSell_TP0809, columns = ['If Sell Pos'])\n",
    "\n",
    "summaryTable0809 = pd.concat([PositionBuy_TP0809_pd, PositionSell_TP0809_pd, tableBlBr], axis=1)\n",
    "summaryTable0809\n"
   ]
  },
  {
   "cell_type": "code",
   "execution_count": null,
   "metadata": {
    "scrolled": true
   },
   "outputs": [],
   "source": [
    "tableForBuyEntry_0809_pd = summaryTable0809[(summaryTable0809['Bull/Bear'] == 'bull')]\n",
    "tableForSellEntry_0809_pd = summaryTable0809[(summaryTable0809['Bull/Bear'] == 'bear')]\n",
    "tableForSellEntry_0809_pd"
   ]
  },
  {
   "cell_type": "code",
   "execution_count": null,
   "metadata": {},
   "outputs": [],
   "source": [
    "# For buy position result\n",
    "BuyPosSubResult_0809 = np.where (tableForBuyEntry_0809_pd ['If Buy Pos'] > 0.0008, 'Success', 'Fail')\n",
    "BuyPosSubResult_0809_pd = pd.DataFrame (BuyPosSubResult_0809, columns = ['Buy Result'])\n",
    "BuyPosSubResult_0809_pd  \n",
    "\n",
    "# Convert To Numpy \n",
    "BuyPosSubResult_0809_np = BuyPosSubResult_0809_pd.values\n",
    "BuyPosSubResult_0809_pd\n",
    "\n",
    "# Count Contents\n",
    "countTotalResultForBuy_0809 = len(BuyPosSubResult_0809_np)\n",
    "countSuccessResultBuy_0809 = (BuyPosSubResult_0809_np == 'Success').sum() \n",
    "\n",
    "WinRateForBuyPos_0809 = countSuccessResultBuy_0809 / countTotalResultForBuy_0809\n",
    "WinRateForBuyPos_0809"
   ]
  },
  {
   "cell_type": "code",
   "execution_count": null,
   "metadata": {
    "scrolled": false
   },
   "outputs": [],
   "source": [
    "# For buy position result\n",
    "SellPosSubResult_0809 = np.where (tableForBuyEntry_0809_pd ['If Sell Pos'] > 0.00080, 'Success', 'Fail')\n",
    "SellPosSubResult_0809_pd = pd.DataFrame (SellPosSubResult_0809, columns = ['Sell Result'])\n",
    "SellPosSubResult_0809_pd  \n",
    "\n",
    "# Convert To Numpy \n",
    "SellPosSubResult_0809_np = SellPosSubResult_0809_pd.values\n",
    "SellPosSubResult_0809_pd\n",
    "\n",
    "# Count Contents\n",
    "countTotalResultForSell_0809 = len(SellPosSubResult_0809_np)\n",
    "countSuccessResultSell_0809 = (SellPosSubResult_0809_np == 'Success').sum() \n",
    "\n",
    "WinRateForSellPos_0809 = countSuccessResultSell_0809 / countTotalResultForSell_0809\n",
    "WinRateForSellPos_0809"
   ]
  },
  {
   "cell_type": "code",
   "execution_count": null,
   "metadata": {},
   "outputs": [],
   "source": []
  }
 ],
 "metadata": {
  "kernelspec": {
   "display_name": "Python 3",
   "language": "python",
   "name": "python3"
  },
  "language_info": {
   "codemirror_mode": {
    "name": "ipython",
    "version": 3
   },
   "file_extension": ".py",
   "mimetype": "text/x-python",
   "name": "python",
   "nbconvert_exporter": "python",
   "pygments_lexer": "ipython3",
   "version": "3.6.5"
  }
 },
 "nbformat": 4,
 "nbformat_minor": 2
}
